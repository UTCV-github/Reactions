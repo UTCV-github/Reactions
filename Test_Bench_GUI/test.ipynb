{
 "cells": [
  {
   "cell_type": "code",
   "execution_count": 1,
   "metadata": {},
   "outputs": [],
   "source": [
    "import pandas as pd"
   ]
  },
  {
   "cell_type": "code",
   "execution_count": 2,
   "metadata": {},
   "outputs": [
    {
     "name": "stdout",
     "output_type": "stream",
     "text": [
      "{'Item': [], 'Volume': [], 'VolumeUnit': ['L', 'mL', 'µL', 'kg', 'g', 'mg'], 'Type': ['PPE', 'Consumables', 'Equipment', 'Tools', 'Other'], 'Material': ['Glass', 'Plastic', 'Borosilicate Glass', 'Other'], 'Size': [], 'Accuracy': [], 'Usage': ['Liquid handling', 'Weighing', 'Measuring', 'Storage'], 'SKU': [], 'Brand': ['Eppendorf', 'Fisher Scientific', 'Pyrex', 'Corning', 'TLG', 'Sigma-Aldrich', 'VWR', 'Agilent', '3M', 'Honeywell'], 'Quantity': [], 'Note': [], 'Location': ['WB203', 'WB storage', 'McCaul']}\n"
     ]
    }
   ],
   "source": [
    "Menu_list = pd.read_csv('Inventory/Menu_list.csv')\n",
    "Menu_list = Menu_list.to_dict(orient='list')\n",
    "for key, value in Menu_list.items():\n",
    "    Menu_list[key] = [x for x in value if not pd.isna(x)]\n",
    "print(Menu_list)"
   ]
  },
  {
   "cell_type": "code",
   "execution_count": 3,
   "metadata": {},
   "outputs": [
    {
     "data": {
      "text/plain": [
       "True"
      ]
     },
     "execution_count": 3,
     "metadata": {},
     "output_type": "execute_result"
    }
   ],
   "source": [
    "type([]) == list"
   ]
  },
  {
   "cell_type": "code",
   "execution_count": 4,
   "metadata": {},
   "outputs": [],
   "source": [
    "my_list = [\"apple\", \"banana\", \"orange\", \"grape\"]\n",
    "\n",
    "# Dynamically create variables using a loop\n",
    "for i, item in enumerate(my_list):\n",
    "    globals()[f\"var{i+1}\"] = item\n",
    "\n",
    "    "
   ]
  },
  {
   "cell_type": "code",
   "execution_count": 5,
   "metadata": {},
   "outputs": [
    {
     "data": {
      "text/plain": [
       "'a'"
      ]
     },
     "execution_count": 5,
     "metadata": {},
     "output_type": "execute_result"
    }
   ],
   "source": [
    "globals()[f\"var{1}\"][0]"
   ]
  },
  {
   "cell_type": "code",
   "execution_count": 6,
   "metadata": {},
   "outputs": [
    {
     "name": "stdout",
     "output_type": "stream",
     "text": [
      "1\n",
      "2\n",
      "3\n",
      "4\n"
     ]
    }
   ],
   "source": [
    "my_dict = {\"apple\": 1, \"banana\": 2, \"orange\": 3, \"grape\": 4}\n",
    "\n",
    "# Enumerate over the items of the dictionary\n",
    "for i, (key, value) in enumerate(my_dict.items()):\n",
    "    globals()[f\"key{key}\"] = value\n",
    "    print(globals()[f\"key{key}\"])"
   ]
  },
  {
   "cell_type": "code",
   "execution_count": 4,
   "metadata": {},
   "outputs": [
    {
     "data": {
      "text/plain": [
       "4"
      ]
     },
     "execution_count": 4,
     "metadata": {},
     "output_type": "execute_result"
    }
   ],
   "source": [
    "globals()[f\"key{key}\"]"
   ]
  }
 ],
 "metadata": {
  "kernelspec": {
   "display_name": "Python 3",
   "language": "python",
   "name": "python3"
  },
  "language_info": {
   "codemirror_mode": {
    "name": "ipython",
    "version": 3
   },
   "file_extension": ".py",
   "mimetype": "text/x-python",
   "name": "python",
   "nbconvert_exporter": "python",
   "pygments_lexer": "ipython3",
   "version": "3.12.2"
  }
 },
 "nbformat": 4,
 "nbformat_minor": 2
}
