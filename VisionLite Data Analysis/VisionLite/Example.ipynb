{
 "cells": [
  {
   "cell_type": "code",
   "execution_count": 1,
   "id": "e8f2b0e2",
   "metadata": {},
   "outputs": [],
   "source": [
    "# Import dependencies\n",
    "import VisionLiteFile as vlf\n",
    "from pathlib import Path"
   ]
  },
  {
   "cell_type": "code",
   "execution_count": null,
   "id": "a3501874",
   "metadata": {},
   "outputs": [],
   "source": [
    "# Import .dsp file (by creating an instance of DSPDecoder)\n",
    "dsp_KOH = vlf.dsp(Path('dsp_example.dsp'))\n",
    "dti_MnO2 = vlf.dti(Path('dti_example.dti'))"
   ]
  },
  {
   "cell_type": "code",
   "execution_count": null,
   "id": "1a596bf9",
   "metadata": {},
   "outputs": [],
   "source": [
    "# Access the attributes of the .dsp object\n",
    "dsp_wavelengths = dsp_KOH.wavelengths\n",
    "dsp_absorbance = dsp_KOH.absorbance\n",
    "dsp_header = dsp_KOH.header\n",
    "\n",
    "# Access the attributes of the .dti object\n",
    "dti_wavelengths = dti_MnO2.time\n",
    "dti_absorbance = dti_MnO2.absorbance\n",
    "dti_header = dti_MnO2.header"
   ]
  },
  {
   "cell_type": "code",
   "execution_count": 4,
   "id": "ce53caef",
   "metadata": {},
   "outputs": [
    {
     "data": {
      "application/vnd.microsoft.datawrangler.viewer.v0+json": {
       "columns": [
        {
         "name": "index",
         "rawType": "int64",
         "type": "integer"
        },
        {
         "name": "Wavelength (nm)",
         "rawType": "float64",
         "type": "float"
        },
        {
         "name": "Absorbance",
         "rawType": "float64",
         "type": "float"
        }
       ],
       "ref": "d0d007c3-d44c-41c5-9402-47f024c4dcf8",
       "rows": [
        [
         "0",
         "190.0",
         "0.0268"
        ],
        [
         "1",
         "191.0",
         "-0.0476"
        ],
        [
         "2",
         "192.0",
         "-0.0824"
        ],
        [
         "3",
         "193.0",
         "0.052"
        ],
        [
         "4",
         "194.0",
         "0.1261"
        ]
       ],
       "shape": {
        "columns": 2,
        "rows": 5
       }
      },
      "text/html": [
       "<div>\n",
       "<style scoped>\n",
       "    .dataframe tbody tr th:only-of-type {\n",
       "        vertical-align: middle;\n",
       "    }\n",
       "\n",
       "    .dataframe tbody tr th {\n",
       "        vertical-align: top;\n",
       "    }\n",
       "\n",
       "    .dataframe thead th {\n",
       "        text-align: right;\n",
       "    }\n",
       "</style>\n",
       "<table border=\"1\" class=\"dataframe\">\n",
       "  <thead>\n",
       "    <tr style=\"text-align: right;\">\n",
       "      <th></th>\n",
       "      <th>Wavelength (nm)</th>\n",
       "      <th>Absorbance</th>\n",
       "    </tr>\n",
       "  </thead>\n",
       "  <tbody>\n",
       "    <tr>\n",
       "      <th>0</th>\n",
       "      <td>190.0</td>\n",
       "      <td>0.0268</td>\n",
       "    </tr>\n",
       "    <tr>\n",
       "      <th>1</th>\n",
       "      <td>191.0</td>\n",
       "      <td>-0.0476</td>\n",
       "    </tr>\n",
       "    <tr>\n",
       "      <th>2</th>\n",
       "      <td>192.0</td>\n",
       "      <td>-0.0824</td>\n",
       "    </tr>\n",
       "    <tr>\n",
       "      <th>3</th>\n",
       "      <td>193.0</td>\n",
       "      <td>0.0520</td>\n",
       "    </tr>\n",
       "    <tr>\n",
       "      <th>4</th>\n",
       "      <td>194.0</td>\n",
       "      <td>0.1261</td>\n",
       "    </tr>\n",
       "  </tbody>\n",
       "</table>\n",
       "</div>"
      ],
      "text/plain": [
       "   Wavelength (nm)  Absorbance\n",
       "0            190.0      0.0268\n",
       "1            191.0     -0.0476\n",
       "2            192.0     -0.0824\n",
       "3            193.0      0.0520\n",
       "4            194.0      0.1261"
      ]
     },
     "execution_count": 4,
     "metadata": {},
     "output_type": "execute_result"
    }
   ],
   "source": [
    "# Convert the spectral infomation in the .dsp file into a pandas dataframe\n",
    "df_KOH = dsp_KOH.to_dataframe()\n",
    "df_KOH.head(5)"
   ]
  },
  {
   "cell_type": "code",
   "execution_count": 5,
   "id": "fa8448eb",
   "metadata": {},
   "outputs": [
    {
     "data": {
      "application/vnd.microsoft.datawrangler.viewer.v0+json": {
       "columns": [
        {
         "name": "index",
         "rawType": "int64",
         "type": "integer"
        },
        {
         "name": "time (s)",
         "rawType": "float64",
         "type": "float"
        },
        {
         "name": "Absorbance",
         "rawType": "float64",
         "type": "float"
        }
       ],
       "ref": "3de6b678-de54-489d-9e45-88ed086816fb",
       "rows": [
        [
         "0",
         "0.0",
         "3.8065"
        ],
        [
         "1",
         "4.0",
         "3.8697"
        ],
        [
         "2",
         "8.0",
         "3.8523"
        ],
        [
         "3",
         "12.0",
         "3.8866"
        ],
        [
         "4",
         "16.0",
         "3.8951"
        ]
       ],
       "shape": {
        "columns": 2,
        "rows": 5
       }
      },
      "text/html": [
       "<div>\n",
       "<style scoped>\n",
       "    .dataframe tbody tr th:only-of-type {\n",
       "        vertical-align: middle;\n",
       "    }\n",
       "\n",
       "    .dataframe tbody tr th {\n",
       "        vertical-align: top;\n",
       "    }\n",
       "\n",
       "    .dataframe thead th {\n",
       "        text-align: right;\n",
       "    }\n",
       "</style>\n",
       "<table border=\"1\" class=\"dataframe\">\n",
       "  <thead>\n",
       "    <tr style=\"text-align: right;\">\n",
       "      <th></th>\n",
       "      <th>time (s)</th>\n",
       "      <th>Absorbance</th>\n",
       "    </tr>\n",
       "  </thead>\n",
       "  <tbody>\n",
       "    <tr>\n",
       "      <th>0</th>\n",
       "      <td>0.0</td>\n",
       "      <td>3.8065</td>\n",
       "    </tr>\n",
       "    <tr>\n",
       "      <th>1</th>\n",
       "      <td>4.0</td>\n",
       "      <td>3.8697</td>\n",
       "    </tr>\n",
       "    <tr>\n",
       "      <th>2</th>\n",
       "      <td>8.0</td>\n",
       "      <td>3.8523</td>\n",
       "    </tr>\n",
       "    <tr>\n",
       "      <th>3</th>\n",
       "      <td>12.0</td>\n",
       "      <td>3.8866</td>\n",
       "    </tr>\n",
       "    <tr>\n",
       "      <th>4</th>\n",
       "      <td>16.0</td>\n",
       "      <td>3.8951</td>\n",
       "    </tr>\n",
       "  </tbody>\n",
       "</table>\n",
       "</div>"
      ],
      "text/plain": [
       "   time (s)  Absorbance\n",
       "0       0.0      3.8065\n",
       "1       4.0      3.8697\n",
       "2       8.0      3.8523\n",
       "3      12.0      3.8866\n",
       "4      16.0      3.8951"
      ]
     },
     "execution_count": 5,
     "metadata": {},
     "output_type": "execute_result"
    }
   ],
   "source": [
    "# Convert the spectral infomation in the .dti file into a pandas dataframe\n",
    "df_test = dti_test.to_dataframe(time_unit='s')\n",
    "df_test.head(5)"
   ]
  }
 ],
 "metadata": {
  "kernelspec": {
   "display_name": "Python 3",
   "language": "python",
   "name": "python3"
  },
  "language_info": {
   "codemirror_mode": {
    "name": "ipython",
    "version": 3
   },
   "file_extension": ".py",
   "mimetype": "text/x-python",
   "name": "python",
   "nbconvert_exporter": "python",
   "pygments_lexer": "ipython3",
   "version": "3.13.3"
  }
 },
 "nbformat": 4,
 "nbformat_minor": 5
}
